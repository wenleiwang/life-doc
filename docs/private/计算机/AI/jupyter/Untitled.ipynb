{
 "cells": [
  {
   "cell_type": "code",
   "execution_count": 43,
   "id": "c5175535",
   "metadata": {},
   "outputs": [],
   "source": [
    "from openai import OpenAI\n",
    "import os\n",
    "import asyncio\n",
    "\n",
    "from dotenv import load_dotenv,find_dotenv\n",
    "\n",
    "_ = load_dotenv(load_dotenv())\n",
    "\n",
    "key = os.getenv('OPENAI_API_KEY','sess-ytGZpQmYjyGN5YlTattZU3oYlHsztmNbp4zoLrc7')\n",
    "\n",
    "client = OpenAI(\n",
    "  api_key=key,  \n",
    ")\n",
    "# openai.api_key = os.getenv('OPEN_API_KEY')\n",
    "model = \"gpt-3.5-turbo\""
   ]
  },
  {
   "cell_type": "code",
   "execution_count": 51,
   "id": "8265194b",
   "metadata": {},
   "outputs": [],
   "source": [
    "def get_completion(prompt, model=\"gpt-3.5-turbo\"):\n",
    "    messages = [{\"role\": \"user\", \"content\": prompt}]\n",
    "    response = client.chat.completions.create(\n",
    "        messages=messages,\n",
    "        model=model,\n",
    "    )\n",
    "    return response.choices[0].message.content"
   ]
  },
  {
   "cell_type": "code",
   "execution_count": 50,
   "id": "e83e3f35",
   "metadata": {},
   "outputs": [
    {
     "name": "stdout",
     "output_type": "stream",
     "text": [
      "ChatCompletion(id='chatcmpl-8PVp3WvMkjV9rZNXt100DtvYJ3Ncs', choices=[Choice(finish_reason='stop', index=0, message=ChatCompletionMessage(content='range函数用于生成一系列的整数序列，其特点如下：\\n\\n1. 生成的序列不包含给定的终止数值。\\n2. range函数接受一个参数作为结束值，生成从0开始到结束值减1的序列。\\n3. range函数也可以接受两个参数，第一个参数为起始值，第二个参数为结束值，生成从起始值到结束值减1的序列。\\n4. range函数还可以接受三个参数，第一个参数为起始值，第二个参数为结束值，第三个参数为步进值，生成从起始值到结束值减1，按照步进值递增或递减的序列。\\n5. 步进值可以为正数或负数，表示递增或递减的幅度。\\n\\n例如：\\n- range(10) 生成一个包含从0到9的序列，长度为10。\\n- range(1, 10) 生成一个包含从1到9的序列，长度为9。\\n- range(0, 10, 2) 生成一个包含从0到8的序列，以步进值2递增，长度为5。\\n- range(10, 0, -1) 生成一个包含从10到1的序列，以步进值-1递减，长度为10。', role='assistant', function_call=None, tool_calls=None))], created=1701091217, model='gpt-3.5-turbo-0613', object='chat.completion', system_fingerprint=None, usage=CompletionUsage(completion_tokens=333, prompt_tokens=108, total_tokens=441))\n",
      "range函数用于生成一系列的整数序列，其特点如下：\n",
      "\n",
      "1. 生成的序列不包含给定的终止数值。\n",
      "2. range函数接受一个参数作为结束值，生成从0开始到结束值减1的序列。\n",
      "3. range函数也可以接受两个参数，第一个参数为起始值，第二个参数为结束值，生成从起始值到结束值减1的序列。\n",
      "4. range函数还可以接受三个参数，第一个参数为起始值，第二个参数为结束值，第三个参数为步进值，生成从起始值到结束值减1，按照步进值递增或递减的序列。\n",
      "5. 步进值可以为正数或负数，表示递增或递减的幅度。\n",
      "\n",
      "例如：\n",
      "- range(10) 生成一个包含从0到9的序列，长度为10。\n",
      "- range(1, 10) 生成一个包含从1到9的序列，长度为9。\n",
      "- range(0, 10, 2) 生成一个包含从0到8的序列，以步进值2递增，长度为5。\n",
      "- range(10, 0, -1) 生成一个包含从10到1的序列，以步进值-1递减，长度为10。\n"
     ]
    }
   ],
   "source": [
    "text=f\"\"\"生成的序列不包含给定的终止数值；`range(10)` 生成 10 个值，这是一个长度为 10 的序列，其中的元素索引都是合法的。range 可以不从 0 开始，还可以按指定幅度递增（递增幅度称为 '步进'，支持负数）\"\"\"\n",
    "\n",
    "prompt = f\"\"\"总结一下：'''{text}'''\"\"\"\n",
    "\n",
    "response = get_completion(prompt)\n",
    "\n",
    "print(response)"
   ]
  }
 ],
 "metadata": {
  "kernelspec": {
   "display_name": "Python 3 (ipykernel)",
   "language": "python",
   "name": "python3"
  },
  "language_info": {
   "codemirror_mode": {
    "name": "ipython",
    "version": 3
   },
   "file_extension": ".py",
   "mimetype": "text/x-python",
   "name": "python",
   "nbconvert_exporter": "python",
   "pygments_lexer": "ipython3",
   "version": "3.11.5"
  },
  "toc": {
   "base_numbering": 1,
   "nav_menu": {},
   "number_sections": true,
   "sideBar": true,
   "skip_h1_title": false,
   "title_cell": "Table of Contents",
   "title_sidebar": "Contents",
   "toc_cell": false,
   "toc_position": {},
   "toc_section_display": true,
   "toc_window_display": false
  }
 },
 "nbformat": 4,
 "nbformat_minor": 5
}
