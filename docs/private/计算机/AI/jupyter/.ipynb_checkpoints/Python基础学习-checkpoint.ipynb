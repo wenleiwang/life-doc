{
 "cells": [
  {
   "cell_type": "markdown",
   "id": "e407b6a0",
   "metadata": {},
   "source": [
    "# 温度转换"
   ]
  },
  {
   "cell_type": "code",
   "execution_count": 1,
   "id": "bb89b9e8",
   "metadata": {
    "scrolled": true
   },
   "outputs": [
    {
     "name": "stdout",
     "output_type": "stream",
     "text": [
      "请输入带有符号的温度值：1F\n",
      "转换后的温度是-17.22C\n"
     ]
    }
   ],
   "source": [
    "TempStr = input(\"请输入带有符号的温度值：\")\n",
    "if TempStr[-1] in ['f','F']:\n",
    "    C = (eval(TempStr[0:-1]) - 32) / 1.8\n",
    "    print(\"转换后的温度是{:.2f}C\".format(C))\n",
    "elif TempStr[-1] in ['c',\"C\"]:\n",
    "    F = 1.8*eval(TempStr[0:-1]) + 32\n",
    "    print(\"转换后的温度是{:.2f}F\".format(F))\n",
    "else:\n",
    "    print(\"输入格式错误\")"
   ]
  },
  {
   "cell_type": "markdown",
   "id": "83eeec75",
   "metadata": {},
   "source": [
    "## 注释\n",
    "* 单行注释\n",
    "使用 ‘#’后面跟注释信息\n",
    "\n",
    "* 使用两个‘'''’ 包裹起来"
   ]
  },
  {
   "cell_type": "code",
   "execution_count": 8,
   "id": "b4e8e96c",
   "metadata": {
    "scrolled": true
   },
   "outputs": [
    {
     "data": {
      "text/plain": [
       "'\\n这个是多行注释\\n第二行\\n第三行\\n'"
      ]
     },
     "execution_count": 8,
     "metadata": {},
     "output_type": "execute_result"
    }
   ],
   "source": [
    "# 这个是单行注释\n",
    "\n",
    "'''\n",
    "这个是多行注释\n",
    "第二行\n",
    "第三行\n",
    "'''"
   ]
  },
  {
   "cell_type": "markdown",
   "id": "132b1643",
   "metadata": {},
   "source": [
    "## 保留字\n",
    "基本单词\n",
    "|保留字|作用|\n",
    "|--|--|\n",
    "|and||\n",
    "|as||\n",
    "|assert||\n",
    "|break||\n",
    "|class||\n",
    "|continue||\n",
    "|def||\n",
    "|elif||\n",
    "|else||\n",
    "|except||\n",
    "|finally||\n",
    "|for||\n",
    "|from||\n",
    "|if||\n",
    "|import||\n",
    "|in||\n",
    "|is||\n",
    "|lambda||\n",
    "|not||\n",
    "|or||\n",
    "|pass||\n",
    "|raise||\n",
    "|return||\n",
    "|try||\n",
    "|while||\n",
    "|with||\n",
    "|yield||\n",
    "|del||\n",
    "|global||\n",
    "|nonlocal||\n",
    "|True||\n",
    "|Flase||\n",
    "|None||"
   ]
  },
  {
   "cell_type": "code",
   "execution_count": 18,
   "id": "2ff0c189",
   "metadata": {
    "scrolled": true
   },
   "outputs": [
    {
     "name": "stdout",
     "output_type": "stream",
     "text": [
      "54.21F\n",
      "12.34C\n"
     ]
    }
   ],
   "source": [
    "tempStr = input()\n",
    "if (tempStr[-1] in ['F','f']):\n",
    "    print(\"{:.2f}C\".format((eval(tempStr[0:-1]) - 32) / 1.8))\n",
    "elif (tempStr[-1] in ['C','c']):\n",
    "    print(\"{:.2f}F\".format( eval(tempStr[0:-1]) * 1.8 + 32))\n",
    "else:\n",
    "    print('输入格式错误')"
   ]
  },
  {
   "cell_type": "markdown",
   "id": "d18cc625",
   "metadata": {},
   "source": [
    "## 数字形式转换 I\n",
    "获得用户输入的一个正整数输入，输出该数字对应的中文字符表示。‪‬‪‬‪‬‪‬‪‬‮‬‪‬‫‬‪‬‪‬‪‬‪‬‪‬‮‬‫‬‪‬‪‬‪‬‪‬‪‬‪‬‮‬‪‬‪‬‪‬‪‬‪‬‪‬‪‬‮‬‪‬‮‬‪‬‪‬‪‬‪‬‪‬‮‬‭‬‫‬‪‬‪‬‪‬‪‬‪‬‮‬‪‬‪‬‪‬‪‬‪‬‪‬‪‬‮‬‪‬‭‬\n",
    "\n",
    "0到9对应的中文字符分别是：零一二三四五六七八九\n",
    "\n",
    "\n",
    "```\n",
    "输入示例1‪‬‪‬‪‬‪‬‪‬‮‬‪‬‫‬‪‬‪‬‪‬‪‬‪‬‮‬‫‬‪‬‪‬‪‬‪‬‪‬‪‬‮‬‪‬‪‬‪‬‪‬‪‬‪‬‪‬‮‬‪‬‮‬‪‬‪‬‪‬‪‬‪‬‮‬‭‬‫‬‪‬‪‬‪‬‪‬‪‬‮‬‪‬‪‬‪‬‪‬‪‬‪‬‪‬‮‬‪‬‭‬\n",
    "123\n",
    "输出示例1‪‬‪‬‪‬‪‬‪‬‮‬‪‬‫‬‪‬‪‬‪‬‪‬‪‬‮‬‫‬‪‬‪‬‪‬‪‬‪‬‪‬‮‬‪‬‪‬‪‬‪‬‪‬‪‬‪‬‮‬‪‬‮‬‪‬‪‬‪‬‪‬‪‬‮‬‭‬‫‬‪‬‪‬‪‬‪‬‪‬‮‬‪‬‪‬‪‬‪‬‪‬‪‬‪‬‮‬‪‬‭‬\n",
    "一二三\n",
    "```\n",
    "\n",
    "\n",
    "```\n",
    "输入示例2‪‬‪‬‪‬‪‬‪‬‮‬‪‬‫‬‪‬‪‬‪‬‪‬‪‬‮‬‫‬‪‬‪‬‪‬‪‬‪‬‪‬‮‬‪‬‪‬‪‬‪‬‪‬‪‬‪‬‮‬‪‬‮‬‪‬‪‬‪‬‪‬‪‬‮‬‭‬‫‬‪‬‪‬‪‬‪‬‪‬‮‬‪‬‪‬‪‬‪‬‪‬‪‬‪‬‮‬‪‬‭‬\n",
    "9876543210\n",
    "输出示例2‪‬‪‬‪‬‪‬‪‬‮‬‪‬‫‬‪‬‪‬‪‬‪‬‪‬‮‬‫‬‪‬‪‬‪‬‪‬‪‬‪‬‮‬‪‬‪‬‪‬‪‬‪‬‪‬‪‬‮‬‪‬‮‬‪‬‪‬‪‬‪‬‪‬‮‬‭‬‫‬‪‬‪‬‪‬‪‬‪‬‮‬‪‬‪‬‪‬‪‬‪‬‪‬‪‬‮‬‪‬‭‬\n",
    "九八七六五四三二一零\n",
    "```\n",
    "\n",
    "> print()中增加end=\"\"参数表示输出后不增加换行，多个print()可以连续输出。"
   ]
  },
  {
   "cell_type": "code",
   "execution_count": 28,
   "id": "a0229b78",
   "metadata": {},
   "outputs": [
    {
     "name": "stdout",
     "output_type": "stream",
     "text": [
      "123\n",
      "一二三\n"
     ]
    }
   ],
   "source": [
    "str = \"零一二三四五六七八九\"\n",
    "showStr = input()\n",
    "show = ''\n",
    "for i in showStr :\n",
    "    show += str[eval(i)]\n",
    "print(show)"
   ]
  },
  {
   "cell_type": "code",
   "execution_count": 29,
   "id": "05fc85d5",
   "metadata": {},
   "outputs": [
    {
     "name": "stdout",
     "output_type": "stream",
     "text": [
      "123\n",
      "一二三"
     ]
    }
   ],
   "source": [
    "template = \"零一二三四五六七八九\"\n",
    "\n",
    "s = input()\n",
    "for c in s:\n",
    "    print(template[eval(c)], end=\"\")"
   ]
  },
  {
   "cell_type": "markdown",
   "id": "a328c98b",
   "metadata": {},
   "source": [
    "## 温度转换2\n",
    "\n",
    "温度的刻画有两个不同体系：摄氏度（Celsius）和华氏度（Fahrenheit）。‪‬‪‬‪‬‪‬‪‬‮‬‪‬‫‬‪‬‪‬‪‬‪‬‪‬‮‬‫‬‪‬‪‬‪‬‪‬‪‬‪‬‮‬‪‬‪‬‪‬‪‬‪‬‪‬‪‬‮‬‪‬‮‬‪‬‪‬‪‬‪‬‪‬‮‬‭‬‫‬‪‬‪‬‪‬‪‬‪‬‮‬‪‬‪‬‪‬‪‬‪‬‪‬‪‬‮‬‪‬‭‬\n",
    "\n",
    "请编写程序将用户输入华氏度转换为摄氏度，或将输入的摄氏度转换为华氏度。‪‬‪‬‪‬‪‬‪‬‮‬‪‬‫‬‪‬‪‬‪‬‪‬‪‬‮‬‫‬‪‬‪‬‪‬‪‬‪‬‪‬‮‬‪‬‪‬‪‬‪‬‪‬‪‬‪‬‮‬‪‬‮‬‪‬‪‬‪‬‪‬‪‬‮‬‭‬‫‬‪‬‪‬‪‬‪‬‪‬‮‬‪‬‪‬‪‬‪‬‪‬‪‬‪‬‮‬‪‬‭‬\n",
    "\n",
    "转换算法如下：（C表示摄氏度、F表示华氏度）‪‬‪‬‪‬‪‬‪‬‮‬‪‬‫‬‪‬‪‬‪‬‪‬‪‬‮‬‫‬‪‬‪‬‪‬‪‬‪‬‪‬‮‬‪‬‪‬‪‬‪‬‪‬‪‬‪‬‮‬‪‬‮‬‪‬‪‬‪‬‪‬‪‬‮‬‭‬‫‬‪‬‪‬‪‬‪‬‪‬‮‬‪‬‪‬‪‬‪‬‪‬‪‬‪‬‮‬‪‬‭‬\n",
    "\n",
    "C = ( F - 32 ) / 1.8‪‬‪‬‪‬‪‬‪‬‮‬‪‬‫‬‪‬‪‬‪‬‪‬‪‬‮‬‫‬‪‬‪‬‪‬‪‬‪‬‪‬‮‬‪‬‪‬‪‬‪‬‪‬‪‬‪‬‮‬‪‬‮‬‪‬‪‬‪‬‪‬‪‬‮‬‭‬‫‬‪‬‪‬‪‬‪‬‪‬‮‬‪‬‪‬‪‬‪‬‪‬‪‬‪‬‮‬‪‬‭‬\n",
    "\n",
    "F = C * 1.8 + 32‪‬‪‬‪‬‪‬‪‬‮‬‪‬‫‬‪‬‪‬‪‬‪‬‪‬‮‬‫‬‪‬‪‬‪‬‪‬‪‬‪‬‮‬‪‬‪‬‪‬‪‬‪‬‪‬‪‬‮‬‪‬‮‬‪‬‪‬‪‬‪‬‪‬‮‬‭‬‫‬‪‬‪‬‪‬‪‬‪‬‮‬‪‬‪‬‪‬‪‬‪‬‪‬‪‬‮‬‪‬‭‬\n",
    "\n",
    "要求如下：‪‬‪‬‪‬‪‬‪‬‮‬‪‬‫‬‪‬‪‬‪‬‪‬‪‬‮‬‫‬‪‬‪‬‪‬‪‬‪‬‪‬‮‬‪‬‪‬‪‬‪‬‪‬‪‬‪‬‮‬‪‬‮‬‪‬‪‬‪‬‪‬‪‬‮‬‭‬‫‬‪‬‪‬‪‬‪‬‪‬‮‬‪‬‪‬‪‬‪‬‪‬‪‬‪‬‮‬‪‬‭‬\n",
    "\n",
    "(1) 输入输出的摄氏度采用大写字母C开头，温度可以是整数或小数，如：C12.34指摄氏度12.34度；‪‬‪‬‪‬‪‬‪‬‮‬‪‬‫‬‪‬‪‬‪‬‪‬‪‬‮‬‫‬‪‬‪‬‪‬‪‬‪‬‪‬‮‬‪‬‪‬‪‬‪‬‪‬‪‬‪‬‮‬‪‬‮‬‪‬‪‬‪‬‪‬‪‬‮‬‭‬‫‬‪‬‪‬‪‬‪‬‪‬‮‬‪‬‪‬‪‬‪‬‪‬‪‬‪‬‮‬‪‬‭‬\n",
    "\n",
    "(2) 输入输出的华氏度采用大写字母F开头，温度可以是整数或小数，如：F87.65指华氏度87.65度；‪‬‪‬‪‬‪‬‪‬‮‬‪‬‫‬‪‬‪‬‪‬‪‬‪‬‮‬‫‬‪‬‪‬‪‬‪‬‪‬‪‬‮‬‪‬‪‬‪‬‪‬‪‬‪‬‪‬‮‬‪‬‮‬‪‬‪‬‪‬‪‬‪‬‮‬‭‬‫‬‪‬‪‬‪‬‪‬‪‬‮‬‪‬‪‬‪‬‪‬‪‬‪‬‪‬‮‬‪‬‭‬\n",
    "\n",
    "(3) 不考虑异常输入的问题，输出保留小数点后两位；‪‬‪‬‪‬‪‬‪‬‮‬‪‬‫‬‪‬‪‬‪‬‪‬‪‬‮‬‫‬‪‬‪‬‪‬‪‬‪‬‪‬‮‬‪‬‪‬‪‬‪‬‪‬‪‬‪‬‮‬‪‬‮‬‪‬‪‬‪‬‪‬‪‬‮‬‭‬‫‬‪‬‪‬‪‬‪‬‪‬‮‬‪‬‪‬‪‬‪‬‪‬‪‬‪‬‮‬‪‬‭‬\n",
    "\n",
    "(4) 使用input()获得测试用例输入时，不要增加提示字符串。"
   ]
  },
  {
   "cell_type": "code",
   "execution_count": 32,
   "id": "32e3490c",
   "metadata": {},
   "outputs": [
    {
     "name": "stdout",
     "output_type": "stream",
     "text": [
      "C12.34\n",
      "F54.21\n"
     ]
    }
   ],
   "source": [
    "tempStr = input()\n",
    "if (tempStr[0] in ['C','c']) :\n",
    "    print(\"F{:.2f}\".format( eval(tempStr[1:]) * 1.8 + 32))\n",
    "else:\n",
    "    print(\"C{:.2f}\".format((eval(tempStr[1:]) - 32) / 1.8))"
   ]
  },
  {
   "cell_type": "markdown",
   "id": "bbda7853",
   "metadata": {},
   "source": [
    "## 货币转换 I\n",
    "\n",
    "人民币和美元是世界上通用的两种货币之一，写一个程序进行货币间币值转换，其中：‪‬‪‬‪‬‪‬‪‬‮‬‪‬‫‬‪‬‪‬‪‬‪‬‪‬‮‬‫‬‪‬‪‬‪‬‪‬‪‬‪‬‮‬‪‬‪‬‪‬‪‬‪‬‪‬‪‬‮‬‪‬‮‬‪‬‪‬‪‬‪‬‪‬‮‬‭‬‫‬‪‬‪‬‪‬‪‬‪‬‮‬‪‬‪‬‪‬‪‬‪‬‪‬‪‬‮‬‪‬‭‬\n",
    "\n",
    "人民币和美元间汇率固定为：1美元 = 6.78人民币。‪‬‪‬‪‬‪‬‪‬‮‬‪‬‫‬‪‬‪‬‪‬‪‬‪‬‮‬‫‬‪‬‪‬‪‬‪‬‪‬‪‬‮‬‪‬‪‬‪‬‪‬‪‬‪‬‪‬‮‬‪‬‮‬‪‬‪‬‪‬‪‬‪‬‮‬‭‬‫‬‪‬‪‬‪‬‪‬‪‬‮‬‪‬‪‬‪‬‪‬‪‬‪‬‪‬‮‬‪‬‭‬\n",
    "\n",
    "程序可以接受人民币或美元输入，转换为美元或人民币输出。人民币采用RMB表示，美元USD表示，符号和数值之间没有空格。‪‬‪‬‪‬‪‬‪‬‮‬‪‬‫‬‪‬‪‬‪‬‪‬‪‬‮‬‫‬‪‬‪‬‪‬‪‬‪‬‪‬‮‬‪‬‪‬‪‬‪‬‪‬‪‬‪‬‮‬‪‬‮‬‪‬‪‬‪‬‪‬‪‬‮‬‭‬‫‬‪‬‪‬‪‬‪‬‪‬‮‬‪‬‪‬‪‬‪‬‪‬‪‬‪‬‮‬‪‬‭‬\n",
    "\n",
    "注意：‪‬‪‬‪‬‪‬‪‬‮‬‪‬‫‬‪‬‪‬‪‬‪‬‪‬‮‬‫‬‪‬‪‬‪‬‪‬‪‬‪‬‮‬‪‬‪‬‪‬‪‬‪‬‪‬‪‬‮‬‪‬‮‬‪‬‪‬‪‬‪‬‪‬‮‬‭‬‫‬‪‬‪‬‪‬‪‬‪‬‮‬‪‬‪‬‪‬‪‬‪‬‪‬‪‬‮‬‪‬‭‬\n",
    "\n",
    "(1) 这是一个OJ题目，获得输入请使用input() ；‪‬‪‬‪‬‪‬‪‬‮‬‪‬‫‬‪‬‪‬‪‬‪‬‪‬‮‬‫‬‪‬‪‬‪‬‪‬‪‬‪‬‮‬‪‬‪‬‪‬‪‬‪‬‪‬‪‬‮‬‪‬‮‬‪‬‪‬‪‬‪‬‪‬‮‬‭‬‫‬‪‬‪‬‪‬‪‬‪‬‮‬‪‬‪‬‪‬‪‬‪‬‪‬‪‬‮‬‪‬‭‬\n",
    "\n",
    "(2) 不提示输出格式错误，结果小数点后保留两位。"
   ]
  },
  {
   "cell_type": "code",
   "execution_count": 37,
   "id": "0e8abb1b",
   "metadata": {},
   "outputs": [
    {
     "name": "stdout",
     "output_type": "stream",
     "text": [
      "RMB123\n",
      "USD18.14\n"
     ]
    }
   ],
   "source": [
    "str = input()\n",
    "if (str[0:3] == 'USD') :\n",
    "    print('RMB{:.2f}'.format(eval(str[3:]) * 6.78))\n",
    "else:\n",
    "    print('USD{:.2f}'.format(eval(str[3:]) / 6.78))"
   ]
  },
  {
   "cell_type": "markdown",
   "id": "2246c340",
   "metadata": {},
   "source": [
    "# 绘制蟒蛇\n",
    "\n",
    "引入 turtle 库 也叫海龟库"
   ]
  },
  {
   "cell_type": "code",
   "execution_count": 45,
   "id": "479f6831",
   "metadata": {},
   "outputs": [],
   "source": [
    "import turtle\n",
    "turtle.setup(650, 350, 200, 200)\n",
    "turtle.penup()\n",
    "turtle.fd(-250)\n",
    "turtle.pendown()\n",
    "turtle.pensize(25)\n",
    "turtle.pencolor(\"green\")\n",
    "turtle.seth(-40)\n",
    "for i in range(4) :\n",
    "    turtle.circle(40,80)\n",
    "    turtle.circle(-40,80)\n",
    "turtle.circle(40, 80/2)\n",
    "turtle.fd(40)\n",
    "turtle.circle(16,180)\n",
    "turtle.fd(40* 2/3)\n",
    "turtle.done()"
   ]
  },
  {
   "cell_type": "markdown",
   "id": "a0906106",
   "metadata": {},
   "source": [
    "## 库引用\n",
    "### 基础语法\n",
    " import <库名>\n",
    " \n",
    " > 不会出现函数重名问题\n",
    " \n",
    " ### 使用不用带库名\n",
    " 使用 from和import保留字完成\n",
    " from <库名> import <函数名>\n",
    " form <库名> import *"
   ]
  },
  {
   "cell_type": "code",
   "execution_count": 23,
   "id": "cfcf8ffd",
   "metadata": {},
   "outputs": [],
   "source": [
    "from turtle import *\n",
    "setup(650, 350, 200, 200)\n",
    "circle(40,360)\n",
    "fd(100)\n",
    "circle(40,-360)\n",
    "done()"
   ]
  },
  {
   "cell_type": "markdown",
   "id": "a3aa197e",
   "metadata": {},
   "source": [
    "自己绘制一个蟒蛇"
   ]
  },
  {
   "cell_type": "code",
   "execution_count": 35,
   "id": "5aa335df",
   "metadata": {},
   "outputs": [],
   "source": [
    "import turtle\n",
    "turtle.setup(500,500,100,100)\n",
    "turtle.penup()\n",
    "turtle.bk(200)\n",
    "turtle.pendown()\n",
    "turtle.pensize(20)\n",
    "turtle.pencolor(\"green\")\n",
    "turtle.seth(-40)\n",
    "for i in range(4):\n",
    "    turtle.circle(30,80)\n",
    "    turtle.circle(-30,80)\n",
    "turtle.circle(30,40)\n",
    "turtle.fd(50)\n",
    "turtle.circle(16,180)\n",
    "turtle.fd(50* 1/3)\n",
    "turtle.done()\n"
   ]
  },
  {
   "cell_type": "markdown",
   "id": "97581a70",
   "metadata": {},
   "source": [
    "画一个正方形"
   ]
  },
  {
   "cell_type": "code",
   "execution_count": 51,
   "id": "9ec7d3ea",
   "metadata": {},
   "outputs": [],
   "source": [
    "import turtle\n",
    "turtle.setup(500,500,100,100)\n",
    "turtle.fd(100)\n",
    "turtle.seth(90)\n",
    "turtle.fd(100)\n",
    "turtle.seth(180)\n",
    "turtle.fd(100)\n",
    "turtle.seth(-90)\n",
    "turtle.fd(100)\n",
    "turtle.seth(0)\n",
    "turtle.done()"
   ]
  },
  {
   "cell_type": "markdown",
   "id": "ac8ac8b2",
   "metadata": {},
   "source": [
    "绘制六边形"
   ]
  },
  {
   "cell_type": "code",
   "execution_count": 59,
   "id": "bf5f8e4a",
   "metadata": {},
   "outputs": [],
   "source": [
    "import turtle\n",
    "turtle.setup(500,500,100,100)\n",
    "# 1\n",
    "turtle.seth(0)\n",
    "turtle.fd(100)\n",
    "# 2\n",
    "turtle.seth(60)\n",
    "turtle.fd(100)\n",
    "# 3\n",
    "turtle.seth(120)\n",
    "turtle.fd(100)\n",
    "# 4\n",
    "turtle.seth(180)\n",
    "turtle.fd(100)\n",
    "# 5\n",
    "turtle.seth(-120)\n",
    "turtle.fd(100)\n",
    "# 6\n",
    "turtle.seth(-60)\n",
    "turtle.fd(100)\n",
    "turtle.seth(0)\n",
    "turtle.done()"
   ]
  },
  {
   "cell_type": "code",
   "execution_count": 63,
   "id": "5c53e68f",
   "metadata": {},
   "outputs": [],
   "source": [
    "import turtle\n",
    "turtle.setup(500,500,100,100)\n",
    "for i in range(6):\n",
    "    turtle.fd(100)\n",
    "    turtle.left(60)\n",
    "turtle.seth(0)\n",
    "turtle.done()"
   ]
  },
  {
   "cell_type": "code",
   "execution_count": 1,
   "id": "f53c426c",
   "metadata": {},
   "outputs": [],
   "source": [
    "import turtle as t\n",
    "t.pensize(2)\n",
    "for i in range(9):\n",
    "    t.fd(160)\n",
    "    t.left(80)  #720/9\n",
    "t.done()"
   ]
  },
  {
   "cell_type": "code",
   "execution_count": 21,
   "id": "4c546018",
   "metadata": {},
   "outputs": [],
   "source": [
    "import turtle as t\n",
    "t.pensize(2)\n",
    "for i in range(4):\n",
    "    t.seth(90*i)\n",
    "    t.fd(150)\n",
    "    t.right(90)\n",
    "    t.circle(-150, 45)\n",
    "    t.goto(0,0)\n",
    "t.done()"
   ]
  },
  {
   "cell_type": "code",
   "execution_count": 26,
   "id": "e795ce0c",
   "metadata": {
    "scrolled": true
   },
   "outputs": [
    {
     "name": "stdout",
     "output_type": "stream",
     "text": [
      "1\n",
      "He\n",
      "ll\n",
      "o \n",
      "Wo\n",
      "rl\n",
      "d"
     ]
    }
   ],
   "source": [
    "str = \"Hello World\"\n",
    "num = input()\n",
    "if eval(num) == 0:\n",
    "    print(str)\n",
    "elif eval(num) > 0:\n",
    "    for i in range(0, len(str), 2):\n",
    "        print(str[i],end=\"\")\n",
    "        if (i < len(str) - 1) :\n",
    "            print(str[i+1])\n",
    "else:\n",
    "    for i in range(len(str)):\n",
    "        print(str[i])"
   ]
  },
  {
   "cell_type": "code",
   "execution_count": 37,
   "id": "58e3a24c",
   "metadata": {},
   "outputs": [
    {
     "name": "stdout",
     "output_type": "stream",
     "text": [
      "10 + 100\n",
      "110.00\n"
     ]
    }
   ],
   "source": [
    "str = input()\n",
    "# 标记第几个个处理\n",
    "tag = 0\n",
    "m = ''\n",
    "op = ''\n",
    "n = ''\n",
    "for i in range(len(str)):\n",
    "    if str[i] != \" \":\n",
    "        if tag == 0 :\n",
    "            m += str[i]\n",
    "        elif tag == 1 :\n",
    "            op += str[i]\n",
    "        else: \n",
    "            n += str[i]\n",
    "    else :\n",
    "        tag+=1\n",
    "print(\"{:.2f}\".format(eval(m + op + n)))"
   ]
  },
  {
   "cell_type": "markdown",
   "id": "e5aa40a7",
   "metadata": {},
   "source": [
    "# 基本数据类型\n",
    "## 数字类型\n",
    "1. 整数类型：与数学中整数概念一致\n"
   ]
  },
  {
   "cell_type": "markdown",
   "id": "8215c1a0",
   "metadata": {},
   "source": [
    "# 天天向上的力量\n",
    "工作日模式要努力到什么水平，才能与每天努力1%一样？‪‬‪‬‪‬‪‬‪‬‮‬‫‬‫‬‪‬‪‬‪‬‪‬‪‬‮‬‭‬‪‬‪‬‪‬‪‬‪‬‪‬‮‬‪‬‫‬‪‬‪‬‪‬‪‬‪‬‮‬‫‬‪‬‪‬‪‬‪‬‪‬‪‬‮‬‪‬‪‬‪‬‪‬‪‬‪‬‪‬‮‬‪‬‮‬‪‬‪‬‪‬‪‬‪‬‮‬‭‬‫‬‪‬‪‬‪‬‪‬‪‬‮‬‪‬‪‬‪‬‪‬‪‬‪‬‪‬‮‬‪‬‭‬\n",
    "\n",
    "-A君: 一年365天，每天进步1%，不停歇 ‪‬‪‬‪‬‪‬‪‬‮‬‫‬‫‬‪‬‪‬‪‬‪‬‪‬‮‬‭‬‪‬‪‬‪‬‪‬‪‬‪‬‮‬‪‬‫‬‪‬‪‬‪‬‪‬‪‬‮‬‫‬‪‬‪‬‪‬‪‬‪‬‪‬‮‬‪‬‪‬‪‬‪‬‪‬‪‬‪‬‮‬‪‬‮‬‪‬‪‬‪‬‪‬‪‬‮‬‭‬‫‬‪‬‪‬‪‬‪‬‪‬‮‬‪‬‪‬‪‬‪‬‪‬‪‬‪‬‮‬‪‬‭‬\n",
    "\n",
    "-B君: 一年365天，每周工作5天休息2天，休息日下降1% ，要多努力呢？‪‬‪‬‪‬‪‬‪‬‮‬‫‬‫‬‪‬‪‬‪‬‪‬‪‬‮‬‭‬‪‬‪‬‪‬‪‬‪‬‪‬‮‬‪‬‫‬‪‬‪‬‪‬‪‬‪‬‮‬‫‬‪‬‪‬‪‬‪‬‪‬‪‬‮‬‪‬‪‬‪‬‪‬‪‬‪‬‪‬‮‬‪‬‮‬‪‬‪‬‪‬‪‬‪‬‮‬‭‬‫‬‪‬‪‬‪‬‪‬‪‬‮‬‪‬‪‬‪‬‪‬‪‬‪‬‪‬‮‬‪‬‭‬\n",
    "\n",
    "每周工作5天休息2天，计算工作日的努力参数是多少才能与每天努力1%一样。‪‬‪‬‪‬‪‬‪‬‮‬‫‬‫‬‪‬‪‬‪‬‪‬‪‬‮‬‭‬‪‬‪‬‪‬‪‬‪‬‪‬‮‬‪‬‫‬‪‬‪‬‪‬‪‬‪‬‮‬‫‬‪‬‪‬‪‬‪‬‪‬‪‬‮‬‪‬‪‬‪‬‪‬‪‬‪‬‪‬‮‬‪‬‮‬‪‬‪‬‪‬‪‬‪‬‮‬‭‬‫‬‪‬‪‬‪‬‪‬‪‬‮‬‪‬‪‬‪‬‪‬‪‬‪‬‪‬‮‬‪‬‭‬\n",
    "\n",
    "‪‬‪‬‪‬‪‬‪‬‮‬‫‬‫‬‪‬‪‬‪‬‪‬‪‬‮‬‭‬‪‬‪‬‪‬‪‬‪‬‪‬‮‬‪‬‫‬‪‬‪‬‪‬‪‬‪‬‮‬‫‬‪‬‪‬‪‬‪‬‪‬‪‬‮‬‪‬‪‬‪‬‪‬‪‬‪‬‪‬‮‬‪‬‮‬‪‬‪‬‪‬‪‬‪‬‮‬‭‬‫‬‪‬‪‬‪‬‪‬‪‬‮‬‪‬‪‬‪‬‪‬‪‬‪‬‪‬‮‬‪‬‭‬\n",
    "\n",
    "要求如下：‪‬‪‬‪‬‪‬‪‬‮‬‫‬‫‬‪‬‪‬‪‬‪‬‪‬‮‬‭‬‪‬‪‬‪‬‪‬‪‬‪‬‮‬‫‬‫‬‪‬‪‬‪‬‪‬‪‬‮‬‭‬‪‬‪‬‪‬‪‬‪‬‪‬‮‬‪‬‫‬‪‬‪‬‪‬‪‬‪‬‮‬‫‬‪‬‪‬‪‬‪‬‪‬‪‬‮‬‪‬‪‬‪‬‪‬‪‬‪‬‪‬‮‬‪‬‮‬‪‬‪‬‪‬‪‬‪‬‮‬‭‬‫‬‪‬‪‬‪‬‪‬‪‬‮‬‪‬‪‬‪‬‪‬‪‬‪‬‪‬‮‬‪‬‭‬\n",
    "\n",
    "(1) ‪‬‪‬‪‬‪‬‪‬‮‬‫‬‫‬‪‬‪‬‪‬‪‬‪‬‮‬‭‬‪‬一年365天，以第0天的能力值为基数，记为1.0；‪‬‪‬‪‬‪‬‪‬‮‬‫‬‫‬‪‬‪‬‪‬‪‬‪‬‮‬‭‬‪‬‪‬‪‬‪‬‪‬‪‬‮‬‪‬‫‬‪‬‪‬‪‬‪‬‪‬‮‬‫‬‪‬‪‬‪‬‪‬‪‬‪‬‮‬‪‬‪‬‪‬‪‬‪‬‪‬‪‬‮‬‪‬‮‬‪‬‪‬‪‬‪‬‪‬‮‬‭‬‫‬‪‬‪‬‪‬‪‬‪‬‮‬‪‬‪‬‪‬‪‬‪‬‪‬‪‬‮‬‪‬‭‬\n",
    "\n",
    "(2) ‪‬‪‬‪‬‪‬‪‬‮‬‫‬‫‬‪‬‪‬‪‬‪‬‪‬‮‬‭‬‪‬当好好学习时，能力值相比前一天提高1%；当没有学习时，由于遗忘等原因能力值相比前一天下降1%；"
   ]
  },
  {
   "cell_type": "code",
   "execution_count": null,
   "id": "fd819ac9",
   "metadata": {},
   "outputs": [],
   "source": []
  },
  {
   "cell_type": "code",
   "execution_count": 4,
   "id": "2df6722d",
   "metadata": {},
   "outputs": [
    {
     "data": {
      "text/plain": [
       "'2023-11-19 07:11:52'"
      ]
     },
     "execution_count": 4,
     "metadata": {},
     "output_type": "execute_result"
    }
   ],
   "source": [
    "import time\n",
    "\n",
    "t = time.gmtime()\n",
    "time.strftime('%Y-%m-%d %H:%M:%S', t)"
   ]
  },
  {
   "cell_type": "markdown",
   "id": "245b7370",
   "metadata": {},
   "source": [
    "# 程序计时应用"
   ]
  },
  {
   "cell_type": "code",
   "execution_count": 10,
   "id": "3dfee7ee",
   "metadata": {},
   "outputs": [
    {
     "name": "stdout",
     "output_type": "stream",
     "text": [
      "3.3005849000037415\n"
     ]
    }
   ],
   "source": [
    "import time\n",
    "star = time.perf_counter()\n",
    "time.sleep(3.3)\n",
    "end = time.perf_counter()\n",
    "print(end - star)"
   ]
  },
  {
   "cell_type": "markdown",
   "id": "90a204fd",
   "metadata": {},
   "source": [
    "# 文本进度条"
   ]
  },
  {
   "cell_type": "code",
   "execution_count": null,
   "id": "2ca59b4e",
   "metadata": {},
   "outputs": [],
   "source": [
    "import time\n",
    "scale =50\n",
    "print(\"开始执行程序\".center(scale//2,\"-\"))\n",
    "start = time.perf_counter"
   ]
  },
  {
   "cell_type": "code",
   "execution_count": 12,
   "id": "c302e8b1",
   "metadata": {
    "scrolled": true
   },
   "outputs": [
    {
     "name": "stdout",
     "output_type": "stream",
     "text": [
      "False 5\n",
      "None 4\n",
      "True 4\n",
      "and 3\n",
      "as 2\n",
      "assert 6\n",
      "async 5\n",
      "await 5\n",
      "break 5\n",
      "class 5\n",
      "continue 8\n",
      "def 3\n",
      "del 3\n",
      "elif 4\n",
      "else 4\n",
      "except 6\n",
      "finally 7\n",
      "for 3\n",
      "from 4\n",
      "global 6\n",
      "if 2\n",
      "import 6\n",
      "in 2\n",
      "is 2\n",
      "lambda 6\n",
      "nonlocal 8\n",
      "not 3\n",
      "or 2\n",
      "pass 4\n",
      "raise 5\n",
      "return 6\n",
      "try 3\n",
      "while 5\n",
      "with 4\n",
      "yield 5\n"
     ]
    }
   ],
   "source": [
    "import keyword\n",
    "for w in keyword.kwlist:\n",
    "    print(w,len(w))\n",
    "    "
   ]
  },
  {
   "cell_type": "markdown",
   "id": "869502d2",
   "metadata": {},
   "source": [
    "# 计算圆周率\n",
    "\n",
    "蒙特卡罗方法"
   ]
  },
  {
   "cell_type": "code",
   "execution_count": 17,
   "id": "7db51281",
   "metadata": {},
   "outputs": [
    {
     "name": "stdout",
     "output_type": "stream",
     "text": [
      "圆周率值是:3.141592653589793\n"
     ]
    }
   ],
   "source": [
    "pi = 0\n",
    "N = 100\n",
    "for k in range(N) :\n",
    "    pi += 1/pow(16,k) * (\\\n",
    "         4/(8*k+1) - \\\n",
    "         2/(8*k + 4) - \\\n",
    "         1/(8*k + 5) - \\\n",
    "         1/(8*k + 6) \\\n",
    "        )\n",
    "print(\"圆周率值是:{}\".format(pi))"
   ]
  },
  {
   "cell_type": "code",
   "execution_count": 18,
   "id": "4500e05c",
   "metadata": {},
   "outputs": [
    {
     "name": "stdout",
     "output_type": "stream",
     "text": [
      "圆周率值是: 3.141904\n",
      "运行时间是: 0.87894s\n"
     ]
    }
   ],
   "source": [
    "#CalPiV2.py\n",
    "from random import random\n",
    "from time import perf_counter\n",
    "DARTS = 1000*1000\n",
    "hits = 0.0\n",
    "start = perf_counter()\n",
    "for i in range(1, DARTS+1):\n",
    "    x, y = random(), random()\n",
    "    dist = pow(x ** 2 + y ** 2, 0.5)\n",
    "    if dist <= 1.0:\n",
    "        hits = hits + 1\n",
    "pi = 4 * (hits/DARTS)\n",
    "print(\"圆周率值是: {}\".format(pi))\n",
    "print(\"运行时间是: {:.5f}s\".format(perf_counter() - start))"
   ]
  }
 ],
 "metadata": {
  "kernelspec": {
   "display_name": "Python 3 (ipykernel)",
   "language": "python",
   "name": "python3"
  },
  "language_info": {
   "codemirror_mode": {
    "name": "ipython",
    "version": 3
   },
   "file_extension": ".py",
   "mimetype": "text/x-python",
   "name": "python",
   "nbconvert_exporter": "python",
   "pygments_lexer": "ipython3",
   "version": "3.11.5"
  },
  "toc": {
   "base_numbering": 1,
   "nav_menu": {},
   "number_sections": true,
   "sideBar": true,
   "skip_h1_title": false,
   "title_cell": "Table of Contents",
   "title_sidebar": "Contents",
   "toc_cell": false,
   "toc_position": {},
   "toc_section_display": true,
   "toc_window_display": true
  }
 },
 "nbformat": 4,
 "nbformat_minor": 5
}
